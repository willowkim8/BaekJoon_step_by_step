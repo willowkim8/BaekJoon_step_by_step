{
 "cells": [
  {
   "cell_type": "code",
   "execution_count": 5,
   "metadata": {
    "ExecuteTime": {
     "end_time": "2021-07-04T16:48:29.606307Z",
     "start_time": "2021-07-04T16:48:20.305440Z"
    }
   },
   "outputs": [
    {
     "ename": "KeyboardInterrupt",
     "evalue": "Interrupted by user",
     "output_type": "error",
     "traceback": [
      "\u001b[0;31m---------------------------------------------------------------------------\u001b[0m",
      "\u001b[0;31mKeyboardInterrupt\u001b[0m                         Traceback (most recent call last)",
      "\u001b[0;32m<ipython-input-5-af8d0921e2cb>\u001b[0m in \u001b[0;36m<module>\u001b[0;34m\u001b[0m\n\u001b[1;32m      1\u001b[0m \u001b[0;31m# 2675 'rady'님 풀이\u001b[0m\u001b[0;34m\u001b[0m\u001b[0;34m\u001b[0m\u001b[0;34m\u001b[0m\u001b[0m\n\u001b[0;32m----> 2\u001b[0;31m \u001b[0mt\u001b[0m \u001b[0;34m=\u001b[0m \u001b[0mint\u001b[0m\u001b[0;34m(\u001b[0m\u001b[0minput\u001b[0m\u001b[0;34m(\u001b[0m\u001b[0;34m)\u001b[0m\u001b[0;34m)\u001b[0m\u001b[0;34m\u001b[0m\u001b[0;34m\u001b[0m\u001b[0m\n\u001b[0m\u001b[1;32m      3\u001b[0m \u001b[0;32mfor\u001b[0m \u001b[0mi\u001b[0m \u001b[0;32min\u001b[0m \u001b[0mrange\u001b[0m\u001b[0;34m(\u001b[0m\u001b[0mt\u001b[0m\u001b[0;34m)\u001b[0m\u001b[0;34m:\u001b[0m\u001b[0;34m\u001b[0m\u001b[0;34m\u001b[0m\u001b[0m\n\u001b[1;32m      4\u001b[0m     \u001b[0ma\u001b[0m\u001b[0;34m,\u001b[0m \u001b[0mb\u001b[0m \u001b[0;34m=\u001b[0m \u001b[0minput\u001b[0m\u001b[0;34m(\u001b[0m\u001b[0;34m)\u001b[0m\u001b[0;34m.\u001b[0m\u001b[0msplit\u001b[0m\u001b[0;34m(\u001b[0m\u001b[0;34m)\u001b[0m\u001b[0;34m\u001b[0m\u001b[0;34m\u001b[0m\u001b[0m\n\u001b[1;32m      5\u001b[0m     \u001b[0;32mfor\u001b[0m \u001b[0mj\u001b[0m \u001b[0;32min\u001b[0m \u001b[0mb\u001b[0m\u001b[0;34m:\u001b[0m\u001b[0;34m\u001b[0m\u001b[0;34m\u001b[0m\u001b[0m\n",
      "\u001b[0;32m~/anaconda3/envs/aiffel/lib/python3.7/site-packages/ipykernel/kernelbase.py\u001b[0m in \u001b[0;36mraw_input\u001b[0;34m(self, prompt)\u001b[0m\n\u001b[1;32m    861\u001b[0m             \u001b[0mself\u001b[0m\u001b[0;34m.\u001b[0m\u001b[0m_parent_ident\u001b[0m\u001b[0;34m,\u001b[0m\u001b[0;34m\u001b[0m\u001b[0;34m\u001b[0m\u001b[0m\n\u001b[1;32m    862\u001b[0m             \u001b[0mself\u001b[0m\u001b[0;34m.\u001b[0m\u001b[0m_parent_header\u001b[0m\u001b[0;34m,\u001b[0m\u001b[0;34m\u001b[0m\u001b[0;34m\u001b[0m\u001b[0m\n\u001b[0;32m--> 863\u001b[0;31m             \u001b[0mpassword\u001b[0m\u001b[0;34m=\u001b[0m\u001b[0;32mFalse\u001b[0m\u001b[0;34m,\u001b[0m\u001b[0;34m\u001b[0m\u001b[0;34m\u001b[0m\u001b[0m\n\u001b[0m\u001b[1;32m    864\u001b[0m         )\n\u001b[1;32m    865\u001b[0m \u001b[0;34m\u001b[0m\u001b[0m\n",
      "\u001b[0;32m~/anaconda3/envs/aiffel/lib/python3.7/site-packages/ipykernel/kernelbase.py\u001b[0m in \u001b[0;36m_input_request\u001b[0;34m(self, prompt, ident, parent, password)\u001b[0m\n\u001b[1;32m    902\u001b[0m             \u001b[0;32mexcept\u001b[0m \u001b[0mKeyboardInterrupt\u001b[0m\u001b[0;34m:\u001b[0m\u001b[0;34m\u001b[0m\u001b[0;34m\u001b[0m\u001b[0m\n\u001b[1;32m    903\u001b[0m                 \u001b[0;31m# re-raise KeyboardInterrupt, to truncate traceback\u001b[0m\u001b[0;34m\u001b[0m\u001b[0;34m\u001b[0m\u001b[0;34m\u001b[0m\u001b[0m\n\u001b[0;32m--> 904\u001b[0;31m                 \u001b[0;32mraise\u001b[0m \u001b[0mKeyboardInterrupt\u001b[0m\u001b[0;34m(\u001b[0m\u001b[0;34m\"Interrupted by user\"\u001b[0m\u001b[0;34m)\u001b[0m \u001b[0;32mfrom\u001b[0m \u001b[0;32mNone\u001b[0m\u001b[0;34m\u001b[0m\u001b[0;34m\u001b[0m\u001b[0m\n\u001b[0m\u001b[1;32m    905\u001b[0m             \u001b[0;32mexcept\u001b[0m \u001b[0mException\u001b[0m \u001b[0;32mas\u001b[0m \u001b[0me\u001b[0m\u001b[0;34m:\u001b[0m\u001b[0;34m\u001b[0m\u001b[0;34m\u001b[0m\u001b[0m\n\u001b[1;32m    906\u001b[0m                 \u001b[0mself\u001b[0m\u001b[0;34m.\u001b[0m\u001b[0mlog\u001b[0m\u001b[0;34m.\u001b[0m\u001b[0mwarning\u001b[0m\u001b[0;34m(\u001b[0m\u001b[0;34m\"Invalid Message:\"\u001b[0m\u001b[0;34m,\u001b[0m \u001b[0mexc_info\u001b[0m\u001b[0;34m=\u001b[0m\u001b[0;32mTrue\u001b[0m\u001b[0;34m)\u001b[0m\u001b[0;34m\u001b[0m\u001b[0;34m\u001b[0m\u001b[0m\n",
      "\u001b[0;31mKeyboardInterrupt\u001b[0m: Interrupted by user"
     ]
    }
   ],
   "source": [
    "# 2675 'rady'님 풀이\n",
    "t = int(input())\n",
    "for i in range(t):\n",
    "    a, b = input().split()\n",
    "    for j in b:\n",
    "        print(int(a)*j, end='')\n",
    "#     print() \n",
    "# 마지막 프린트는 없어도 될꺼 같은데"
   ]
  },
  {
   "cell_type": "code",
   "execution_count": null,
   "metadata": {},
   "outputs": [
    {
     "name": "stdout",
     "output_type": "stream",
     "text": [
      "B\n"
     ]
    }
   ],
   "source": [
    "# 단어 공부 1157\n",
    "word = input()\n",
    "word = word.upper()\n",
    "word_list = list(set(word))\n",
    "cnt = []\n",
    "\n",
    "for i in word_list:\n",
    "    count = word.count(i)\n",
    "    cnt.append(count)\n",
    "\n",
    "if cnt.count(max(cnt)) >= 2:\n",
    "    print('?')\n",
    "\n",
    "else:\n",
    "    print(max(word))"
   ]
  },
  {
   "cell_type": "code",
   "execution_count": null,
   "metadata": {},
   "outputs": [
    {
     "data": {
      "text/plain": [
       "'b'"
      ]
     },
     "execution_count": 9,
     "metadata": {},
     "output_type": "execute_result"
    }
   ],
   "source": [
    "word = 'baaa'\n",
    "max(word) \n",
    "# 문자열의 max와 min을 출력하면 유니코드가 큰 문자를 반환한다. 대박\n"
   ]
  },
  {
   "cell_type": "code",
   "execution_count": null,
   "metadata": {},
   "outputs": [
    {
     "name": "stdout",
     "output_type": "stream",
     "text": [
      "A\n"
     ]
    }
   ],
   "source": [
    "# 단어 공부 1157\n",
    "word = input()\n",
    "word = word.upper()\n",
    "word_list = list(set(word))\n",
    "cnt = []\n",
    "\n",
    "for i in word_list:\n",
    "    count = word.count(i)\n",
    "    cnt.append(count)\n",
    "\n",
    "if cnt.count(max(cnt)) >= 2:\n",
    "    print('?')\n",
    "\n",
    "else:\n",
    "    print(word_list[cnt.index(max(cnt))].upper())\n",
    "# index와 find는 비슷하지만 리스트는 index만 가능"
   ]
  },
  {
   "cell_type": "code",
   "execution_count": null,
   "metadata": {},
   "outputs": [
    {
     "name": "stdout",
     "output_type": "stream",
     "text": [
      "A\n"
     ]
    }
   ],
   "source": [
    "# xordud525의 풀이\n",
    "# 아스키 코드로 카운트 하기 \n",
    "s,a=input().lower(),[]\n",
    "for i in range(97,123):\n",
    "    a.append(s.count(chr(i)))\n",
    "print('?'if a.count(max(a))>1 else chr(a.index(max(a))+97).upper())"
   ]
  },
  {
   "cell_type": "code",
   "execution_count": null,
   "metadata": {},
   "outputs": [
    {
     "name": "stdout",
     "output_type": "stream",
     "text": [
      "baaaaa\n",
      "[]\n"
     ]
    }
   ],
   "source": [
    "s,a=input().lower(),[]\n",
    "print(s)\n",
    "print(a)"
   ]
  },
  {
   "cell_type": "code",
   "execution_count": null,
   "metadata": {},
   "outputs": [
    {
     "ename": "AttributeError",
     "evalue": "'str' object has no attribute 'reverse'",
     "output_type": "error",
     "traceback": [
      "\u001b[0;31m---------------------------------------------------------------------------\u001b[0m",
      "\u001b[0;31mAttributeError\u001b[0m                            Traceback (most recent call last)",
      "\u001b[0;32m<ipython-input-1-ce93cd106d5b>\u001b[0m in \u001b[0;36m<module>\u001b[0;34m\u001b[0m\n\u001b[1;32m      1\u001b[0m \u001b[0ma\u001b[0m \u001b[0;34m=\u001b[0m \u001b[0;34m'45678'\u001b[0m\u001b[0;34m\u001b[0m\u001b[0;34m\u001b[0m\u001b[0m\n\u001b[0;32m----> 2\u001b[0;31m \u001b[0mprint\u001b[0m\u001b[0;34m(\u001b[0m\u001b[0ma\u001b[0m\u001b[0;34m.\u001b[0m\u001b[0mreverse\u001b[0m\u001b[0;34m(\u001b[0m\u001b[0;34m)\u001b[0m\u001b[0;34m)\u001b[0m\u001b[0;34m\u001b[0m\u001b[0;34m\u001b[0m\u001b[0m\n\u001b[0m",
      "\u001b[0;31mAttributeError\u001b[0m: 'str' object has no attribute 'reverse'"
     ]
    }
   ],
   "source": [
    "# a = '45678'\n",
    "# print(a.reverse())\n",
    "# str은 reverse가 아니고 reversed"
   ]
  },
  {
   "cell_type": "code",
   "execution_count": null,
   "metadata": {},
   "outputs": [
    {
     "name": "stdout",
     "output_type": "stream",
     "text": [
      "<reversed object at 0x7fe16aeae690>\n"
     ]
    },
    {
     "data": {
      "text/plain": [
       "'87654'"
      ]
     },
     "execution_count": 5,
     "metadata": {},
     "output_type": "execute_result"
    }
   ],
   "source": [
    "a = '45678'\n",
    "print(reversed(a))\n",
    "''.join(reversed(a))"
   ]
  },
  {
   "cell_type": "code",
   "execution_count": null,
   "metadata": {},
   "outputs": [],
   "source": [
    "# kjh3141 문제 풀이\n",
    "print(max([int(i[::-1]) for i in input().split()]))"
   ]
  },
  {
   "cell_type": "code",
   "execution_count": null,
   "metadata": {},
   "outputs": [
    {
     "name": "stdout",
     "output_type": "stream",
     "text": [
      "6\n"
     ]
    }
   ],
   "source": [
    "chrt = ['c=', 'c-', 'dz=', 'd-', 'lj', 'nj', 's=', 'z=']\n",
    "\n",
    "cnt = 0\n",
    "word = 'ljes=njak'\n",
    "for i in chrt:\n",
    "    # print(word.find(i))\n",
    "    if word.find(i) != -1:\n",
    "        word = word.replace(i, '')\n",
    "        cnt += 1\n",
    "cnt += len(word)\n",
    "print(cnt)"
   ]
  },
  {
   "cell_type": "code",
   "execution_count": 6,
   "metadata": {},
   "outputs": [
    {
     "name": "stdout",
     "output_type": "stream",
     "text": [
      "0\n",
      "1\n"
     ]
    }
   ],
   "source": [
    "chrt = ['c=', 'c-', 'dz=', 'd-', 'lj', 'nj', 's=', 'z=']\n",
    "\n",
    "cnt = 0\n",
    "word = 'c=c='\n",
    "for i in chrt:\n",
    "    # print(word.find(i))\n",
    "    if word.find(i) != -1:\n",
    "        print(word.find(i))\n",
    "        word = word.replace(i, '')\n",
    "        cnt += 1\n",
    "cnt += len(word)\n",
    "print(cnt)"
   ]
  },
  {
   "cell_type": "code",
   "execution_count": 9,
   "metadata": {},
   "outputs": [
    {
     "name": "stdout",
     "output_type": "stream",
     "text": [
      "2\n",
      "0\n",
      "0\n",
      "0\n",
      "0\n",
      "0\n",
      "0\n",
      "0\n"
     ]
    }
   ],
   "source": [
    "chrt = ['c=', 'c-', 'dz=', 'd-', 'lj', 'nj', 's=', 'z=']\n",
    "\n",
    "cnt = 0\n",
    "word = 'c=c='\n",
    "for i in chrt:\n",
    "    print(word.count(i))"
   ]
  },
  {
   "cell_type": "code",
   "execution_count": 12,
   "metadata": {},
   "outputs": [
    {
     "name": "stdout",
     "output_type": "stream",
     "text": [
      "nljj\n",
      "nljj\n",
      "nljj\n",
      "nljj\n",
      "nj\n",
      "\n",
      "\n",
      "\n",
      "2\n",
      "2\n"
     ]
    }
   ],
   "source": [
    "chrt = ['c=', 'c-', 'dz=', 'd-', 'lj', 'nj', 's=', 'z=']\n",
    "\n",
    "cnt = 0\n",
    "word = 'nljj'\n",
    "for i in chrt:\n",
    "    cnt += word.count(i)\n",
    "    if word.find(i) != -1:\n",
    "        word = word.replace(i,'')\n",
    "    print(word)\n",
    "print(cnt)\n",
    "cnt += len(word)\n",
    "print(cnt)"
   ]
  },
  {
   "cell_type": "code",
   "execution_count": 13,
   "metadata": {},
   "outputs": [
    {
     "name": "stdout",
     "output_type": "stream",
     "text": [
      "3\n"
     ]
    }
   ],
   "source": [
    "# 구글링\n",
    "a = ['c=', 'c-', 'dz=', 'd-', 'lj', 'nj', 's=', 'z=']\n",
    "alpha = input()\n",
    "\n",
    "for t in a:\n",
    "    alpha = alpha.replace(t, '*')\n",
    "\n",
    "print(len(alpha))"
   ]
  },
  {
   "cell_type": "code",
   "execution_count": 1,
   "metadata": {},
   "outputs": [
    {
     "name": "stdout",
     "output_type": "stream",
     "text": [
      "h\n",
      "a\n",
      "p\n",
      "p\n",
      "y\n"
     ]
    }
   ],
   "source": [
    "a = 'happy'\n",
    "for i in a:\n",
    "    print(i)"
   ]
  },
  {
   "cell_type": "code",
   "execution_count": 2,
   "metadata": {},
   "outputs": [
    {
     "data": {
      "text/plain": [
       "'h'"
      ]
     },
     "execution_count": 2,
     "metadata": {},
     "output_type": "execute_result"
    }
   ],
   "source": [
    "a[0]"
   ]
  },
  {
   "cell_type": "code",
   "execution_count": 8,
   "metadata": {},
   "outputs": [
    {
     "name": "stdout",
     "output_type": "stream",
     "text": [
      "5\n"
     ]
    }
   ],
   "source": [
    "# 그룹 단어 체커\n",
    "n = int(input())\n",
    "\n",
    "group = []\n",
    "for i in range(n):\n",
    "    a = input()\n",
    "    for j in range(len(a)-1):\n",
    "        if ord(str(a[j])) <= ord(str(a[j+1])):\n",
    "            group.append(a)\n",
    "        else:\n",
    "            continue\n",
    "\n",
    "print(len(group))"
   ]
  },
  {
   "cell_type": "code",
   "execution_count": 6,
   "metadata": {},
   "outputs": [
    {
     "data": {
      "text/plain": [
       "104"
      ]
     },
     "execution_count": 6,
     "metadata": {},
     "output_type": "execute_result"
    }
   ],
   "source": [
    "ord('h')"
   ]
  },
  {
   "cell_type": "code",
   "execution_count": 1,
   "metadata": {},
   "outputs": [
    {
     "data": {
      "text/plain": [
       "{'a', 'h', 'p', 'y'}"
      ]
     },
     "execution_count": 1,
     "metadata": {},
     "output_type": "execute_result"
    }
   ],
   "source": [
    "set('happy')"
   ]
  },
  {
   "cell_type": "code",
   "execution_count": 5,
   "metadata": {},
   "outputs": [
    {
     "data": {
      "text/plain": [
       "'hapy'"
      ]
     },
     "execution_count": 5,
     "metadata": {},
     "output_type": "execute_result"
    }
   ],
   "source": [
    "from collections import OrderedDict\n",
    "a = 'happy'\n",
    "a_order = ''.join(OrderedDict.fromkeys(a))\n",
    "a_order"
   ]
  },
  {
   "cell_type": "code",
   "execution_count": null,
   "metadata": {},
   "outputs": [],
   "source": [
    "from collections import OrderedDict\n",
    "a = 'abab'\n",
    "a_order = ''.join(OrderedDict.fromkeys(a))\n",
    "a_order"
   ]
  },
  {
   "cell_type": "code",
   "execution_count": null,
   "metadata": {},
   "outputs": [],
   "source": [
    "# 1316 2번째 시도\n",
    "# 그룹 단어 체커\n",
    "from collections import OrderedDict\n",
    "n = int(input())\n",
    "\n",
    "group = []\n",
    "for i in range(n):\n",
    "    a = input()\n",
    "    if len(set(a)) == len(OrderedDict.fromkeys(a)):\n",
    "        group.append(a)\n",
    "    else:\n",
    "        continue\n",
    "\n",
    "print(len(group))"
   ]
  },
  {
   "cell_type": "code",
   "execution_count": null,
   "metadata": {},
   "outputs": [],
   "source": [
    "# 구글링한 코드\n",
    "n = int(input)\n",
    "\n",
    "answer = 0\n",
    "for i in range(n):\n",
    "    word = input()\n",
    "    for j in range(len(word)):\n",
    "        if j != len(word)-1:\n",
    "            if word[j] == word[j+1]:\n",
    "                pass\n",
    "            else:\n",
    "                break\n",
    "        else:\n",
    "            answer += 1\n",
    "print(answer)\n",
    "# 런타임 에러 난다"
   ]
  },
  {
   "cell_type": "code",
   "execution_count": null,
   "metadata": {},
   "outputs": [],
   "source": [
    "# 다른 코드\n",
    "answer = 0\n",
    "for i in range(int(input())):\n",
    "    word = input()\n",
    "    if list(word) == sorted(word, key=word.find):\n",
    "        answer += 1\n",
    "print(answer)"
   ]
  },
  {
   "cell_type": "code",
   "execution_count": 9,
   "metadata": {},
   "outputs": [
    {
     "name": "stdout",
     "output_type": "stream",
     "text": [
      "['a', 'b', 'a', 'b', 'a']\n",
      "['a', 'a', 'a', 'b', 'b']\n"
     ]
    }
   ],
   "source": [
    "word = input()\n",
    "print(list(word))\n",
    "print(sorted(word, key=word.find))"
   ]
  },
  {
   "cell_type": "markdown",
   "metadata": {},
   "source": [
    "위의 코드 출처 : https://aisiunme.github.io/algorithm/2018/08/13/baekjoon-group-word-checker-1316.md/"
   ]
  },
  {
   "cell_type": "markdown",
   "metadata": {},
   "source": [
    "# 5622"
   ]
  },
  {
   "cell_type": "code",
   "execution_count": null,
   "metadata": {},
   "outputs": [],
   "source": [
    "2 = ['A','B','C']\n",
    "3 = ['D','E','F']\n",
    "4 = ['G','H','I']\n",
    "5 = ['J','K','L']\n",
    "6 = ['M','N','O']\n",
    "7 = ['P','Q','R','S']\n",
    "8 = ['T','U','V']\n",
    "9 = ['W','X','Y','Z']\n",
    "\n",
    "# 완전 잘못된 접근\n",
    "# index() 함수로 쓸 생각해야 됨"
   ]
  },
  {
   "cell_type": "code",
   "execution_count": null,
   "metadata": {},
   "outputs": [],
   "source": [
    "# 손익분기점\n",
    "a, b, c = map(int, input().split())\n",
    "n = 1\n",
    "# n < a //(c-b)\n",
    "while True:\n",
    "    if (a/(c-b)) < 0:\n",
    "        print('-1')\n",
    "        break\n",
    "    elif n <= a//(c-b):\n",
    "        n += 1\n",
    "        continue\n",
    "    else:\n",
    "        print(n)\n",
    "        break\n",
    "# 맞은 거 같은데 시간 초과 됨\n",
    "# n을 자연수로 일일히 확인하는게 아니고 방정식을 기준으로  풀어야 된다.  "
   ]
  },
  {
   "cell_type": "code",
   "execution_count": null,
   "metadata": {},
   "outputs": [],
   "source": [
    "# 구글링한 코드인데 런타임 에러난다.\n",
    "# 손익분기점\n",
    "a, b, c = map(int, input().split())\n",
    "if (c-b) < 0:\n",
    "    print(-1)\n",
    "else:\n",
    "    print(int((a/(c-b))+1))"
   ]
  },
  {
   "cell_type": "code",
   "execution_count": null,
   "metadata": {},
   "outputs": [],
   "source": [
    "# 거의 비슷한데 런타임 에러 안난다.\n",
    "A, B, C = map(int, input().split())\n",
    "\n",
    "if B>=C:\n",
    "    print(-1)\n",
    "else:\n",
    "    print(int(A/(C-B)+1))"
   ]
  },
  {
   "cell_type": "code",
   "execution_count": null,
   "metadata": {},
   "outputs": [],
   "source": [
    "# 2292\n",
    "n = int(input())\n",
    "\n",
    "while True:\n",
    "    \n",
    "\n",
    "def solution(num):\n",
    "    num -= 1\n",
    "    if num%6 == 0:\n",
    "        level = (num//6)+1\n",
    "    else:\n",
    "        level = (num//6)+2\n",
    "    return(level)\n",
    "\n",
    "print(solution(n))\n",
    "# 등차수열로 잘못 짬 \n",
    "# 손으로 풀어보니까 계차수열"
   ]
  },
  {
   "cell_type": "code",
   "execution_count": 1,
   "metadata": {},
   "outputs": [
    {
     "name": "stdout",
     "output_type": "stream",
     "text": [
      "2/4\n"
     ]
    }
   ],
   "source": [
    "# 1193\n",
    "\n",
    "n = int(input())\n",
    "line = 0 # 사선 라인\n",
    "num_count = 0 # 입력된 숫자(n 변수)의 라인에서 가장 큰 숫자\n",
    "\n",
    "while num_count < n: \n",
    "    line += 1\n",
    "    num_count += line\n",
    "\n",
    "num_count -= line\n",
    "\n",
    "if line % 2 == 0:\n",
    "    i = n - num_count\n",
    "    j = line - i + 1\n",
    "else:\n",
    "    i = line - ( n - num_count) + 1\n",
    "    j = n - num_count\n",
    "\n",
    "print(f'{i}/{j}')"
   ]
  },
  {
   "cell_type": "code",
   "execution_count": null,
   "metadata": {},
   "outputs": [],
   "source": []
  }
 ],
 "metadata": {
  "hide_input": false,
  "interpreter": {
   "hash": "0ed4dec82f3ab9314841703bf4ed056838cd50ce80f8237a1c640843ce75ebdd"
  },
  "kernelspec": {
   "display_name": "Python 3.7.9 64-bit ('aiffel': conda)",
   "name": "python3"
  },
  "language_info": {
   "codemirror_mode": {
    "name": "ipython",
    "version": 3
   },
   "file_extension": ".py",
   "mimetype": "text/x-python",
   "name": "python",
   "nbconvert_exporter": "python",
   "pygments_lexer": "ipython3",
   "version": "3.7.9"
  },
  "toc": {
   "base_numbering": 1,
   "nav_menu": {},
   "number_sections": true,
   "sideBar": true,
   "skip_h1_title": false,
   "title_cell": "Table of Contents",
   "title_sidebar": "Contents",
   "toc_cell": false,
   "toc_position": {},
   "toc_section_display": true,
   "toc_window_display": false
  },
  "varInspector": {
   "cols": {
    "lenName": 16,
    "lenType": 16,
    "lenVar": 40
   },
   "kernels_config": {
    "python": {
     "delete_cmd_postfix": "",
     "delete_cmd_prefix": "del ",
     "library": "var_list.py",
     "varRefreshCmd": "print(var_dic_list())"
    },
    "r": {
     "delete_cmd_postfix": ") ",
     "delete_cmd_prefix": "rm(",
     "library": "var_list.r",
     "varRefreshCmd": "cat(var_dic_list()) "
    }
   },
   "types_to_exclude": [
    "module",
    "function",
    "builtin_function_or_method",
    "instance",
    "_Feature"
   ],
   "window_display": false
  }
 },
 "nbformat": 4,
 "nbformat_minor": 5
}